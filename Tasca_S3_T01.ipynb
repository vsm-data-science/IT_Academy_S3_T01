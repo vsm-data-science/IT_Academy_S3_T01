{
 "cells": [
  {
   "cell_type": "markdown",
   "metadata": {
    "id": "tKCcxOwgDF85"
   },
   "source": [
    "## Exercici 1"
   ]
  },
  {
   "cell_type": "markdown",
   "metadata": {
    "id": "Q5yq_deBDOkw"
   },
   "source": [
    "Crea dues variables numèriques i fes operacions amb elles. En concret: suma els dos valors, resta, multiplica i divideix."
   ]
  },
  {
   "cell_type": "code",
   "execution_count": 2,
   "metadata": {
    "colab": {
     "base_uri": "https://localhost:8080/"
    },
    "id": "_sENMjOdDN5P",
    "outputId": "d7262cbc-0655-4ef9-8507-a1fd6fed1827"
   },
   "outputs": [
    {
     "name": "stdout",
     "output_type": "stream",
     "text": [
      "21\n",
      "9\n",
      "90\n",
      "2.5\n"
     ]
    }
   ],
   "source": [
    "a = 15\n",
    "b = 6\n",
    "\n",
    "print(a+b) #suma\n",
    "print(a-b) #resta\n",
    "print(a*b) #multiplicació\n",
    "print(a/b) #divisió"
   ]
  },
  {
   "cell_type": "markdown",
   "metadata": {
    "id": "qJ-TW-YZD5Pf"
   },
   "source": [
    "## Exercici 2"
   ]
  },
  {
   "cell_type": "markdown",
   "metadata": {
    "id": "HgE0T574D-fn"
   },
   "source": [
    "Crea una variable amb el preu net d'un producte (preu_net). Crea un altre variable amb l'IVA a aplicar sobre el producte (IVA). Mostra per pantalla els textos i valors següents:\n",
    "\n",
    "\"El preu net del producte és: preu_net €\"\n",
    "\"L'IVA aplicat al producte és: IVA %\"\n",
    "\"El preu final de venda del producte és: preu_final €\""
   ]
  },
  {
   "cell_type": "code",
   "execution_count": 3,
   "metadata": {
    "colab": {
     "base_uri": "https://localhost:8080/"
    },
    "id": "ghqMugHAJBZR",
    "outputId": "32ffc684-e0f2-4475-98b4-6df9b265740f"
   },
   "outputs": [
    {
     "name": "stdout",
     "output_type": "stream",
     "text": [
      "El preu net del producte és: 45 €\n",
      "L'IVA aplicat al producte és: 21 %\n",
      "El preu final de venda del producte és: 54.45 €\n"
     ]
    }
   ],
   "source": [
    "preu_net = 45\n",
    "iva = 21\n",
    "\n",
    "preu_final = preu_net + (preu_net*(iva/100))\n",
    "\n",
    "print(\"El preu net del producte és:\", preu_net, \"€\")\n",
    "print(\"L'IVA aplicat al producte és:\", iva, \"%\")\n",
    "print(\"El preu final de venda del producte és:\", preu_final, \"€\")"
   ]
  },
  {
   "cell_type": "markdown",
   "metadata": {
    "id": "PEmM9i86Fq4q"
   },
   "source": [
    "## Exercici 3"
   ]
  },
  {
   "cell_type": "markdown",
   "metadata": {
    "id": "9RcqU_IgFsXH"
   },
   "source": [
    "Crea dues variables numèriques i indica quina de les dues és més gran"
   ]
  },
  {
   "cell_type": "code",
   "execution_count": 6,
   "metadata": {
    "colab": {
     "base_uri": "https://localhost:8080/"
    },
    "id": "VU4J2JJDFvTA",
    "outputId": "b5251eed-5e6c-4dbc-b97d-7568da740d2f"
   },
   "outputs": [
    {
     "name": "stdout",
     "output_type": "stream",
     "text": [
      "True\n"
     ]
    }
   ],
   "source": [
    "a = 15\n",
    "b = 14\n",
    "\n",
    "print(a>b)\n",
    "\n",
    "#Torna \"True\" perque a es més grán que b"
   ]
  },
  {
   "cell_type": "markdown",
   "metadata": {
    "id": "2WxPAp9vG5Wo"
   },
   "source": [
    "## Exercici 4"
   ]
  },
  {
   "cell_type": "markdown",
   "metadata": {
    "id": "H2m7rznjG7pI"
   },
   "source": [
    "A partir de les variables numèriques creades, mostra per pantalla un missatge si el valor està entre 1 i 10, un altre missatge si el valor està entre 11 i 20 i un altre missatge si el valor està per sobre de 20."
   ]
  },
  {
   "cell_type": "code",
   "execution_count": 8,
   "metadata": {
    "colab": {
     "base_uri": "https://localhost:8080/"
    },
    "id": "4WeuBXRUGkxT",
    "outputId": "2411daee-46b6-4012-9fea-cae968b83e7c"
   },
   "outputs": [
    {
     "name": "stdout",
     "output_type": "stream",
     "text": [
      "El valor està entre 11 i 20.\n"
     ]
    }
   ],
   "source": [
    "a = 15\n",
    "b = 14\n",
    "\n",
    "if 1 <= a <= 10 or 1 <= b <= 10:\n",
    "    print(\"El valor està entre 1 i 10.\")\n",
    "\n",
    "\n",
    "elif 11 <= a <= 20 or 11 <= b <= 20:\n",
    "    print(\"El valor està entre 11 i 20.\")\n",
    "\n",
    "else:\n",
    "    print(\"El valor està per sobre de 20.\")\n",
    "\n",
    "#Utilitzem l'operador *if per a dir si:\n",
    "#1 <= a verifica si el valor de la variable a és major o igual que 1.\n",
    "#a <= 10 verifica si el valor de la variable a és menor o igual que 10.\n",
    "#1 <= b verifica si el valor de la variable b és major o igual que 1.\n",
    "#b <= 10 verifica si el valor de la variable b és menor o igual que 10.\n",
    "#1 <= a <= 10 avaluarà com a veritable si el valor d'està dins del rang d'1 a 10.\n",
    "#1 <= b <= 10 avaluarà com a veritable si el valor de b està dins del mateix rang.\n",
    "#utilitzem *or per a combinar totes dues expressions condicionals.\n",
    "#y diem *elif si lo anterior no es probem amb...\n",
    "#y diem *else si no posa print que \"El valor està per sobre de 20\"\n"
   ]
  }
 ],
 "metadata": {
  "colab": {
   "provenance": []
  },
  "kernelspec": {
   "display_name": "Python 3 (ipykernel)",
   "language": "python",
   "name": "python3"
  },
  "language_info": {
   "codemirror_mode": {
    "name": "ipython",
    "version": 3
   },
   "file_extension": ".py",
   "mimetype": "text/x-python",
   "name": "python",
   "nbconvert_exporter": "python",
   "pygments_lexer": "ipython3",
   "version": "3.11.5"
  }
 },
 "nbformat": 4,
 "nbformat_minor": 1
}
